{
 "cells": [
  {
   "cell_type": "markdown",
   "id": "750dfd09",
   "metadata": {},
   "source": [
    "# Classical Machine learning for logical gates"
   ]
  },
  {
   "cell_type": "markdown",
   "id": "a9e337c3",
   "metadata": {},
   "source": [
    "## Dataset 1"
   ]
  },
  {
   "cell_type": "code",
   "execution_count": 1,
   "id": "bbd519aa",
   "metadata": {},
   "outputs": [],
   "source": [
    "# get pandas running\n",
    "import numpy as np\n",
    "import pandas as pd"
   ]
  },
  {
   "cell_type": "code",
   "execution_count": 2,
   "id": "3864012b",
   "metadata": {},
   "outputs": [
    {
     "data": {
      "text/html": [
       "<div>\n",
       "<style scoped>\n",
       "    .dataframe tbody tr th:only-of-type {\n",
       "        vertical-align: middle;\n",
       "    }\n",
       "\n",
       "    .dataframe tbody tr th {\n",
       "        vertical-align: top;\n",
       "    }\n",
       "\n",
       "    .dataframe thead th {\n",
       "        text-align: right;\n",
       "    }\n",
       "</style>\n",
       "<table border=\"1\" class=\"dataframe\">\n",
       "  <thead>\n",
       "    <tr style=\"text-align: right;\">\n",
       "      <th></th>\n",
       "      <th>Unnamed: 0</th>\n",
       "      <th>X1</th>\n",
       "      <th>X2</th>\n",
       "      <th>Target</th>\n",
       "    </tr>\n",
       "  </thead>\n",
       "  <tbody>\n",
       "    <tr>\n",
       "      <th>0</th>\n",
       "      <td>0</td>\n",
       "      <td>0.840287</td>\n",
       "      <td>0.330545</td>\n",
       "      <td>0</td>\n",
       "    </tr>\n",
       "    <tr>\n",
       "      <th>1</th>\n",
       "      <td>1</td>\n",
       "      <td>0.410047</td>\n",
       "      <td>0.225367</td>\n",
       "      <td>0</td>\n",
       "    </tr>\n",
       "    <tr>\n",
       "      <th>2</th>\n",
       "      <td>2</td>\n",
       "      <td>0.300130</td>\n",
       "      <td>0.769993</td>\n",
       "      <td>0</td>\n",
       "    </tr>\n",
       "    <tr>\n",
       "      <th>3</th>\n",
       "      <td>3</td>\n",
       "      <td>0.653653</td>\n",
       "      <td>0.274764</td>\n",
       "      <td>0</td>\n",
       "    </tr>\n",
       "    <tr>\n",
       "      <th>4</th>\n",
       "      <td>4</td>\n",
       "      <td>0.568839</td>\n",
       "      <td>0.256385</td>\n",
       "      <td>0</td>\n",
       "    </tr>\n",
       "  </tbody>\n",
       "</table>\n",
       "</div>"
      ],
      "text/plain": [
       "   Unnamed: 0        X1        X2  Target\n",
       "0           0  0.840287  0.330545       0\n",
       "1           1  0.410047  0.225367       0\n",
       "2           2  0.300130  0.769993       0\n",
       "3           3  0.653653  0.274764       0\n",
       "4           4  0.568839  0.256385       0"
      ]
     },
     "execution_count": 2,
     "metadata": {},
     "output_type": "execute_result"
    }
   ],
   "source": [
    "#read in dataset\n",
    "df1 = pd.read_excel(\"../kaggle/fuzzy/AND Fuzzy.xlsx\")\n",
    "df1.head()"
   ]
  },
  {
   "cell_type": "code",
   "execution_count": 3,
   "id": "23b868f3",
   "metadata": {},
   "outputs": [
    {
     "name": "stdout",
     "output_type": "stream",
     "text": [
      "(1000, 4)\n"
     ]
    }
   ],
   "source": [
    "print(df1.shape)"
   ]
  },
  {
   "cell_type": "code",
   "execution_count": 4,
   "id": "25a09e87",
   "metadata": {},
   "outputs": [
    {
     "name": "stdout",
     "output_type": "stream",
     "text": [
      "Index(['Unnamed: 0', 'X1', 'X2', 'Target'], dtype='object')\n"
     ]
    }
   ],
   "source": [
    "print(df1.columns)"
   ]
  },
  {
   "cell_type": "code",
   "execution_count": 5,
   "id": "e7ff0c8e",
   "metadata": {},
   "outputs": [
    {
     "data": {
      "text/html": [
       "<div>\n",
       "<style scoped>\n",
       "    .dataframe tbody tr th:only-of-type {\n",
       "        vertical-align: middle;\n",
       "    }\n",
       "\n",
       "    .dataframe tbody tr th {\n",
       "        vertical-align: top;\n",
       "    }\n",
       "\n",
       "    .dataframe thead th {\n",
       "        text-align: right;\n",
       "    }\n",
       "</style>\n",
       "<table border=\"1\" class=\"dataframe\">\n",
       "  <thead>\n",
       "    <tr style=\"text-align: right;\">\n",
       "      <th></th>\n",
       "      <th>Unnamed: 0</th>\n",
       "      <th>X1</th>\n",
       "      <th>X2</th>\n",
       "      <th>Target</th>\n",
       "    </tr>\n",
       "  </thead>\n",
       "  <tbody>\n",
       "    <tr>\n",
       "      <th>count</th>\n",
       "      <td>1000.000000</td>\n",
       "      <td>1000.000000</td>\n",
       "      <td>1000.000000</td>\n",
       "      <td>1000.000000</td>\n",
       "    </tr>\n",
       "    <tr>\n",
       "      <th>mean</th>\n",
       "      <td>499.500000</td>\n",
       "      <td>0.482618</td>\n",
       "      <td>0.486176</td>\n",
       "      <td>0.250000</td>\n",
       "    </tr>\n",
       "    <tr>\n",
       "      <th>std</th>\n",
       "      <td>288.819436</td>\n",
       "      <td>0.299070</td>\n",
       "      <td>0.297332</td>\n",
       "      <td>0.433229</td>\n",
       "    </tr>\n",
       "    <tr>\n",
       "      <th>min</th>\n",
       "      <td>0.000000</td>\n",
       "      <td>0.000062</td>\n",
       "      <td>0.000724</td>\n",
       "      <td>0.000000</td>\n",
       "    </tr>\n",
       "    <tr>\n",
       "      <th>25%</th>\n",
       "      <td>249.750000</td>\n",
       "      <td>0.217795</td>\n",
       "      <td>0.227072</td>\n",
       "      <td>0.000000</td>\n",
       "    </tr>\n",
       "    <tr>\n",
       "      <th>50%</th>\n",
       "      <td>499.500000</td>\n",
       "      <td>0.501475</td>\n",
       "      <td>0.499011</td>\n",
       "      <td>0.000000</td>\n",
       "    </tr>\n",
       "    <tr>\n",
       "      <th>75%</th>\n",
       "      <td>749.250000</td>\n",
       "      <td>0.747167</td>\n",
       "      <td>0.737384</td>\n",
       "      <td>0.250000</td>\n",
       "    </tr>\n",
       "    <tr>\n",
       "      <th>max</th>\n",
       "      <td>999.000000</td>\n",
       "      <td>0.997071</td>\n",
       "      <td>0.999507</td>\n",
       "      <td>1.000000</td>\n",
       "    </tr>\n",
       "  </tbody>\n",
       "</table>\n",
       "</div>"
      ],
      "text/plain": [
       "        Unnamed: 0           X1           X2       Target\n",
       "count  1000.000000  1000.000000  1000.000000  1000.000000\n",
       "mean    499.500000     0.482618     0.486176     0.250000\n",
       "std     288.819436     0.299070     0.297332     0.433229\n",
       "min       0.000000     0.000062     0.000724     0.000000\n",
       "25%     249.750000     0.217795     0.227072     0.000000\n",
       "50%     499.500000     0.501475     0.499011     0.000000\n",
       "75%     749.250000     0.747167     0.737384     0.250000\n",
       "max     999.000000     0.997071     0.999507     1.000000"
      ]
     },
     "execution_count": 5,
     "metadata": {},
     "output_type": "execute_result"
    }
   ],
   "source": [
    "df1.describe()"
   ]
  },
  {
   "cell_type": "markdown",
   "id": "3ab0a525",
   "metadata": {},
   "source": [
    "# here we see that our data for A and B is from -1 to 5 (3)"
   ]
  },
  {
   "cell_type": "markdown",
   "id": "816b061a",
   "metadata": {},
   "source": [
    "## Dataset 2"
   ]
  },
  {
   "cell_type": "code",
   "execution_count": 6,
   "id": "db82f63d",
   "metadata": {},
   "outputs": [
    {
     "name": "stdout",
     "output_type": "stream",
     "text": [
      "(1000, 4)\n",
      "Index(['Unnamed: 0', 'X1', 'X2', 'Target'], dtype='object')\n"
     ]
    }
   ],
   "source": [
    "# get pandas running\n",
    "import numpy as np\n",
    "import pandas as pd\n",
    "\n",
    "#read in dataset\n",
    "df2 = pd.read_excel(\"../kaggle/fuzzy/XOR Fuzzy.xlsx\")\n",
    "df2.head()\n",
    "\n",
    "print(df2.shape)\n",
    "print(df2.columns)\n",
    "description = df2.describe()"
   ]
  },
  {
   "cell_type": "markdown",
   "id": "65c3fe3c",
   "metadata": {},
   "source": [
    "# Try with regression"
   ]
  },
  {
   "cell_type": "markdown",
   "id": "d06aa21c",
   "metadata": {},
   "source": [
    "## imports"
   ]
  },
  {
   "cell_type": "code",
   "execution_count": 7,
   "id": "a2187857",
   "metadata": {
    "scrolled": true
   },
   "outputs": [],
   "source": [
    "import seaborn as sns\n",
    "%matplotlib inline\n",
    "import matplotlib.pyplot as plt\n",
    "from pandas.plotting import scatter_matrix\n",
    "\n",
    "from sklearn.model_selection import StratifiedShuffleSplit, train_test_split # Datensplits\n",
    "from sklearn.linear_model import LinearRegression # Machine learning\n",
    "from sklearn import metrics # Model evaluation"
   ]
  },
  {
   "cell_type": "markdown",
   "id": "b7bfa303",
   "metadata": {},
   "source": [
    "## prepare data"
   ]
  },
  {
   "cell_type": "code",
   "execution_count": 8,
   "id": "b53bef95",
   "metadata": {},
   "outputs": [
    {
     "name": "stdout",
     "output_type": "stream",
     "text": [
      "Index(['X1', 'X2', 'Target'], dtype='object')\n",
      "                X1           X2      Target\n",
      "count  1000.000000  1000.000000  1000.00000\n",
      "mean      0.488224     0.493889     0.50000\n",
      "std       0.290966     0.296587     0.50025\n",
      "min       0.000067     0.000428     0.00000\n",
      "25%       0.230494     0.229903     0.00000\n",
      "50%       0.495980     0.499074     0.50000\n",
      "75%       0.745465     0.752604     1.00000\n",
      "max       0.997674     0.998858     1.00000\n",
      "               X1          X2      Target\n",
      "count  700.000000  700.000000  700.000000\n",
      "mean     0.479748    0.507664    0.502857\n",
      "std      0.294930    0.296724    0.500349\n",
      "min      0.000067    0.000428    0.000000\n",
      "25%      0.210721    0.239447    0.000000\n",
      "50%      0.481823    0.521934    1.000000\n",
      "75%      0.740105    0.773955    1.000000\n",
      "max      0.997674    0.998858    1.000000\n",
      "               X1          X2      Target\n",
      "count  300.000000  300.000000  300.000000\n",
      "mean     0.508001    0.461747    0.493333\n",
      "std      0.280987    0.294257    0.500791\n",
      "min      0.002516    0.005700    0.000000\n",
      "25%      0.269504    0.201445    0.000000\n",
      "50%      0.510380    0.398004    0.000000\n",
      "75%      0.760852    0.731265    1.000000\n",
      "max      0.994101    0.997510    1.000000\n"
     ]
    }
   ],
   "source": [
    "# drop not needed columns\n",
    "df2.drop(columns=df2.columns[0], axis=1, inplace=True)\n",
    "print(df2.columns)\n",
    "description = df2.describe()\n",
    "print(description)\n",
    "\n",
    "# split in train and test data\n",
    "df_train, df_test = np.split(df2, [int(len(df2)*0.7)])\n",
    "\n",
    "# see if train and test data are quite the same\n",
    "print(df_train.describe())\n",
    "print(df_test.describe())"
   ]
  },
  {
   "cell_type": "code",
   "execution_count": 9,
   "id": "56e67476",
   "metadata": {},
   "outputs": [
    {
     "name": "stdout",
     "output_type": "stream",
     "text": [
      "[[0.59140793 0.61561936]\n",
      " [0.1318304  0.34636674]\n",
      " [0.17758343 0.8405715 ]\n",
      " ...\n",
      " [0.99342062 0.24940961]\n",
      " [0.69330392 0.30243006]\n",
      " [0.00534434 0.93836599]]\n",
      "[0 0 1 1 1 0 1 1 0 0 0 0 1 1 0 1 1 1 0 1 0 1 0 0 0 1 0 1 0 1 1 1 0 1 1 1 1\n",
      " 1 1 0 0 0 1 1 0 0 1 0 0 1 0 1 0 1 0 1 1 0 1 0 0 1 1 0 0 0 0 1 0 1 1 1 0 1\n",
      " 0 0 1 1 1 1 0 1 0 0 0 0 0 0 1 0 0 1 0 1 0 0 0 1 0 0 1 0 1 0 1 0 0 0 1 0 1\n",
      " 0 0 0 0 1 0 0 1 0 0 1 1 0 0 0 0 1 0 0 1 0 0 0 1 1 1 1 1 0 1 0 0 1 0 0 1 1\n",
      " 0 0 0 1 0 1 0 1 0 0 0 1 1 1 0 0 0 0 1 1 1 1 1 1 1 1 1 1 1 0 0 0 1 1 0 1 0\n",
      " 1 0 1 1 1 0 1 1 1 1 0 0 1 1 1 0 0 1 0 1 0 0 0 0 1 0 0 1 1 0 1 0 0 0 0 1 0\n",
      " 0 0 1 1 1 1 0 1 0 0 1 0 1 0 1 0 0 1 0 0 0 0 1 0 1 0 0 1 1 1 0 0 0 0 1 1 0\n",
      " 0 1 1 1 1 0 0 1 1 1 0 1 1 0 0 1 1 1 0 1 1 0 0 0 1 1 1 0 1 0 0 1 1 1 0 0 0\n",
      " 1 0 0 1 0 0 1 0 0 1 0 0 0 0 1 1 0 0 1 1 1 1 0 1 0 1 1 1 1 0 0 0 0 1 1 0 1\n",
      " 1 1 1 0 0 0 1 1 1 1 0 1 1 1 0 1 1 0 1 0 1 1 1 1 1 1 1 1 1 0 1 1 0 1 1 1 1\n",
      " 1 0 0 0 0 1 0 1 0 0 1 0 0 1 1 1 1 1 1 0 0 0 1 0 0 0 1 0 1 0 1 0 1 1 0 1 0\n",
      " 1 0 0 0 1 0 0 0 0 0 0 0 0 0 1 0 0 0 0 1 1 0 0 0 0 1 1 0 0 1 1 1 1 1 1 0 1\n",
      " 1 1 1 0 1 0 1 1 1 1 0 1 0 0 0 1 1 0 0 1 0 1 1 1 1 0 0 0 1 1 0 0 0 0 0 1 1\n",
      " 1 0 0 1 0 0 0 1 1 1 0 0 0 1 1 0 1 0 0 0 0 0 0 0 1 0 1 1 1 0 0 0 0 1 0 0 1\n",
      " 0 1 0 0 1 0 1 1 0 1 1 0 1 1 1 0 0 0 1 0 0 1 1 1 1 0 0 1 1 1 0 1 1 1 1 0 1\n",
      " 0 1 0 0 1 0 0 0 1 1 1 0 1 1 0 0 0 1 0 0 0 1 1 0 0 1 1 0 1 0 0 1 1 0 0 1 0\n",
      " 1 1 0 0 1 1 1 0 1 0 0 1 0 0 0 0 1 0 1 1 1 0 0 1 1 0 0 0 0 0 1 0 0 1 0 0 1\n",
      " 1 1 1 1 1 1 0 0 0 0 1 1 1 0 1 1 1 1 0 0 1 1 1 1 1 1 1 0 0 1 1 1 1 0 1 0 1\n",
      " 0 0 1 0 1 1 1 0 1 1 1 0 0 0 0 1 0 1 0 0 0 0 1 1 1 1 1 1 0 0 0 1 1 1]\n",
      "[[0.17513025 0.30930543]\n",
      " [0.26482202 0.47322026]\n",
      " [0.45537221 0.2772    ]\n",
      " [0.21787986 0.78921691]\n",
      " [0.63338171 0.13406739]\n",
      " [0.86626834 0.24023816]\n",
      " [0.33529998 0.86839197]\n",
      " [0.7809938  0.6456125 ]\n",
      " [0.08044739 0.68962111]\n",
      " [0.03490885 0.64884414]\n",
      " [0.58212389 0.99751026]\n",
      " [0.3394524  0.16397908]\n",
      " [0.55132078 0.36337808]\n",
      " [0.48695508 0.43449348]\n",
      " [0.8388967  0.63570602]\n",
      " [0.55629376 0.80788456]\n",
      " [0.69300847 0.98607882]\n",
      " [0.41390268 0.04761581]\n",
      " [0.52898789 0.02544084]\n",
      " [0.68278479 0.75671547]\n",
      " [0.27443755 0.74679581]\n",
      " [0.8922672  0.23888996]\n",
      " [0.2403551  0.34509363]\n",
      " [0.07532049 0.66894422]\n",
      " [0.88668154 0.97631509]\n",
      " [0.9647997  0.61229935]\n",
      " [0.33590862 0.36766466]\n",
      " [0.78299344 0.06447022]\n",
      " [0.3077258  0.99708352]\n",
      " [0.39478756 0.29809382]\n",
      " [0.85093747 0.36133904]\n",
      " [0.04963425 0.97159279]\n",
      " [0.38117522 0.74532487]\n",
      " [0.88602605 0.75556172]\n",
      " [0.39310762 0.02101765]\n",
      " [0.63008247 0.10041172]\n",
      " [0.51085609 0.83316626]\n",
      " [0.34197341 0.08381952]\n",
      " [0.46488897 0.14576326]\n",
      " [0.4071695  0.18097697]\n",
      " [0.95181441 0.16303177]\n",
      " [0.35332015 0.71372547]\n",
      " [0.33237756 0.40522011]\n",
      " [0.35723217 0.82171703]\n",
      " [0.72251663 0.04075977]\n",
      " [0.79455245 0.91939701]\n",
      " [0.86570019 0.38692549]\n",
      " [0.15816415 0.44558662]\n",
      " [0.69013429 0.60543884]\n",
      " [0.1697148  0.65024241]\n",
      " [0.72001658 0.87735883]\n",
      " [0.27860902 0.26208407]\n",
      " [0.2906728  0.5912968 ]\n",
      " [0.15981002 0.54267635]\n",
      " [0.16687045 0.74421612]\n",
      " [0.45892781 0.33230625]\n",
      " [0.35788485 0.56739372]\n",
      " [0.65524181 0.02420948]\n",
      " [0.78007418 0.91687724]\n",
      " [0.68489977 0.73110328]\n",
      " [0.80935135 0.3975254 ]\n",
      " [0.42881788 0.48146615]\n",
      " [0.24307099 0.04959597]\n",
      " [0.61332382 0.30311576]\n",
      " [0.66136099 0.30266065]\n",
      " [0.23472516 0.84456264]\n",
      " [0.99308226 0.64515287]\n",
      " [0.82657709 0.86378393]\n",
      " [0.25885006 0.9756885 ]\n",
      " [0.59363766 0.1176832 ]\n",
      " [0.16492158 0.38018128]\n",
      " [0.89899598 0.19091358]\n",
      " [0.1769655  0.68590278]\n",
      " [0.59733919 0.73715717]\n",
      " [0.38323149 0.74499613]\n",
      " [0.11887983 0.29961583]\n",
      " [0.44363184 0.49768195]\n",
      " [0.99410143 0.55248568]\n",
      " [0.80889041 0.81589327]\n",
      " [0.6026509  0.73778175]\n",
      " [0.28989197 0.14041362]\n",
      " [0.35488239 0.79163122]\n",
      " [0.09357778 0.33651999]\n",
      " [0.62901297 0.39908523]\n",
      " [0.41831784 0.05624566]\n",
      " [0.60055103 0.06199448]\n",
      " [0.33991131 0.9024252 ]\n",
      " [0.28927862 0.54402357]\n",
      " [0.44463812 0.16002103]\n",
      " [0.89000736 0.38032917]\n",
      " [0.87883562 0.33137437]\n",
      " [0.16027551 0.11851284]\n",
      " [0.86072    0.79439543]\n",
      " [0.27738507 0.67032235]\n",
      " [0.31384793 0.72422109]\n",
      " [0.79795811 0.39937359]\n",
      " [0.39468359 0.48784127]\n",
      " [0.53860791 0.61599669]\n",
      " [0.82583635 0.54806521]\n",
      " [0.59555445 0.24164559]\n",
      " [0.94560983 0.13919522]\n",
      " [0.89794104 0.1341449 ]\n",
      " [0.90677953 0.98667462]\n",
      " [0.35568621 0.40122498]\n",
      " [0.29673845 0.51432795]\n",
      " [0.8094669  0.91347625]\n",
      " [0.22538876 0.70667086]\n",
      " [0.06965125 0.62073289]\n",
      " [0.1439666  0.65693973]\n",
      " [0.05841694 0.00569959]\n",
      " [0.76474218 0.86497812]\n",
      " [0.78624715 0.57983661]\n",
      " [0.13704078 0.22186707]\n",
      " [0.78189703 0.52763604]\n",
      " [0.10154014 0.16522583]\n",
      " [0.93172934 0.14804433]\n",
      " [0.55044424 0.94404837]\n",
      " [0.34803791 0.81089224]\n",
      " [0.63340845 0.534534  ]\n",
      " [0.10331593 0.36111702]\n",
      " [0.90212316 0.57816065]\n",
      " [0.1079478  0.39958237]\n",
      " [0.52236949 0.61222873]\n",
      " [0.65738991 0.80679536]\n",
      " [0.01705635 0.68437658]\n",
      " [0.07770582 0.96211145]\n",
      " [0.97308091 0.87017816]\n",
      " [0.18507112 0.92746744]\n",
      " [0.22102594 0.10304578]\n",
      " [0.31696744 0.79374856]\n",
      " [0.73907622 0.16968036]\n",
      " [0.06228657 0.82564978]\n",
      " [0.22713605 0.89797666]\n",
      " [0.82421486 0.69971486]\n",
      " [0.75531566 0.25070597]\n",
      " [0.56380676 0.3217531 ]\n",
      " [0.1767864  0.02267141]\n",
      " [0.70498281 0.36137482]\n",
      " [0.11414422 0.65363107]\n",
      " [0.24883674 0.59236782]\n",
      " [0.63809158 0.30765465]\n",
      " [0.85499784 0.75523786]\n",
      " [0.55209143 0.33265762]\n",
      " [0.63958328 0.12988699]\n",
      " [0.789799   0.91326624]\n",
      " [0.11001932 0.89461439]\n",
      " [0.78813849 0.93552868]\n",
      " [0.94312896 0.83036581]\n",
      " [0.94779193 0.15008078]\n",
      " [0.90469106 0.055744  ]\n",
      " [0.13426502 0.01565111]\n",
      " [0.15293393 0.65551345]\n",
      " [0.82115354 0.2022789 ]\n",
      " [0.83323439 0.96778828]\n",
      " [0.10945432 0.8745021 ]\n",
      " [0.68146641 0.77007971]\n",
      " [0.99125533 0.12454475]\n",
      " [0.16769282 0.18330108]\n",
      " [0.37585192 0.58476174]\n",
      " [0.12989522 0.8191864 ]\n",
      " [0.48452163 0.02635396]\n",
      " [0.97675693 0.87994127]\n",
      " [0.86548981 0.9957327 ]\n",
      " [0.9731838  0.91190328]\n",
      " [0.79697679 0.23422888]\n",
      " [0.97517769 0.90159275]\n",
      " [0.90016346 0.09226658]\n",
      " [0.22160876 0.26839325]\n",
      " [0.6839111  0.29859262]\n",
      " [0.29292017 0.27886256]\n",
      " [0.95291883 0.35700967]\n",
      " [0.445137   0.21508083]\n",
      " [0.00949119 0.04220097]\n",
      " [0.65229669 0.71032258]\n",
      " [0.71213583 0.04764758]\n",
      " [0.31391069 0.53903194]\n",
      " [0.75955524 0.53341893]\n",
      " [0.46423444 0.47606215]\n",
      " [0.37164512 0.2452515 ]\n",
      " [0.89936043 0.04651288]\n",
      " [0.84930652 0.19722647]\n",
      " [0.19047326 0.1888114 ]\n",
      " [0.69238654 0.13190516]\n",
      " [0.16778669 0.1447884 ]\n",
      " [0.8001513  0.75200598]\n",
      " [0.37205292 0.56902799]\n",
      " [0.82472418 0.34920111]\n",
      " [0.66216666 0.73806805]\n",
      " [0.84712065 0.50610895]\n",
      " [0.52434204 0.17474145]\n",
      " [0.94664859 0.34225304]\n",
      " [0.62062315 0.98719997]\n",
      " [0.30638682 0.44113611]\n",
      " [0.57405525 0.32718551]\n",
      " [0.82447849 0.03576848]\n",
      " [0.36340346 0.58983348]\n",
      " [0.25478418 0.42588354]\n",
      " [0.38928969 0.10705582]\n",
      " [0.64887611 0.90569372]\n",
      " [0.61667412 0.79327222]\n",
      " [0.57695686 0.30115544]\n",
      " [0.71708696 0.61739324]\n",
      " [0.6551736  0.22226732]\n",
      " [0.92832156 0.31982118]\n",
      " [0.39674872 0.30809897]\n",
      " [0.30402503 0.11051718]\n",
      " [0.6771211  0.27602356]\n",
      " [0.17617957 0.21987282]\n",
      " [0.9520947  0.39173059]\n",
      " [0.67452664 0.05869067]\n",
      " [0.32829218 0.92906225]\n",
      " [0.75179241 0.35746198]\n",
      " [0.9298974  0.27831842]\n",
      " [0.74127587 0.71405746]\n",
      " [0.61327378 0.11650284]\n",
      " [0.19868823 0.82853395]\n",
      " [0.66069082 0.07204668]\n",
      " [0.25554091 0.70145546]\n",
      " [0.24637155 0.2026456 ]\n",
      " [0.97546144 0.36245468]\n",
      " [0.56613479 0.75051304]\n",
      " [0.39292261 0.30120508]\n",
      " [0.72712878 0.2451901 ]\n",
      " [0.34286601 0.47081476]\n",
      " [0.32636053 0.55937742]\n",
      " [0.49055964 0.33382124]\n",
      " [0.15804255 0.6168561 ]\n",
      " [0.70113565 0.28606052]\n",
      " [0.25436252 0.52258398]\n",
      " [0.83978707 0.24758481]\n",
      " [0.31189474 0.01754693]\n",
      " [0.42208623 0.33091711]\n",
      " [0.27020415 0.39591192]\n",
      " [0.19224286 0.14671558]\n",
      " [0.2674055  0.35844139]\n",
      " [0.32191548 0.14710649]\n",
      " [0.35826024 0.98654255]\n",
      " [0.74517911 0.11876011]\n",
      " [0.22563425 0.02553618]\n",
      " [0.87069831 0.17951315]\n",
      " [0.84776305 0.012138  ]\n",
      " [0.48157639 0.10634608]\n",
      " [0.54853044 0.27891422]\n",
      " [0.00251633 0.15265696]\n",
      " [0.78801491 0.74040406]\n",
      " [0.15421108 0.08136342]\n",
      " [0.14866639 0.21603022]\n",
      " [0.54337685 0.63614572]\n",
      " [0.41038937 0.23518658]\n",
      " [0.60361284 0.09691163]\n",
      " [0.18247413 0.87919549]\n",
      " [0.13179272 0.66130845]\n",
      " [0.40699977 0.09061386]\n",
      " [0.1921612  0.18156537]\n",
      " [0.94203513 0.72841952]\n",
      " [0.52059683 0.73174901]\n",
      " [0.35085732 0.97215668]\n",
      " [0.40881791 0.08473459]\n",
      " [0.6941919  0.21025537]\n",
      " [0.80549325 0.29205253]\n",
      " [0.51181547 0.37574818]\n",
      " [0.32799975 0.29804635]\n",
      " [0.83103047 0.63156243]\n",
      " [0.23041936 0.33162075]\n",
      " [0.22665641 0.05042555]\n",
      " [0.81215915 0.37744002]\n",
      " [0.06269055 0.10553483]\n",
      " [0.22450114 0.96429761]\n",
      " [0.56563859 0.19397702]\n",
      " [0.84604329 0.07594646]\n",
      " [0.01780693 0.512985  ]\n",
      " [0.04406959 0.34290143]\n",
      " [0.88633464 0.52879665]\n",
      " [0.31421732 0.73929355]\n",
      " [0.77894554 0.8838442 ]\n",
      " [0.50508554 0.00724231]\n",
      " [0.39535622 0.78526338]\n",
      " [0.97599661 0.39848314]\n",
      " [0.43714285 0.05501168]\n",
      " [0.41223787 0.19894171]\n",
      " [0.10175855 0.26724691]\n",
      " [0.0139285  0.29663056]\n",
      " [0.56135694 0.16095412]\n",
      " [0.05002361 0.51539555]\n",
      " [0.17599879 0.92680551]\n",
      " [0.50990302 0.36561452]\n",
      " [0.39145114 0.38147901]\n",
      " [0.57104233 0.744858  ]\n",
      " [0.4164482  0.11878331]\n",
      " [0.64802954 0.24964825]\n",
      " [0.71435251 0.78126426]\n",
      " [0.08183741 0.64875969]\n",
      " [0.7366145  0.03989888]\n",
      " [0.0178938  0.68542048]\n",
      " [0.75208968 0.34727727]\n",
      " [0.8828983  0.39015651]\n",
      " [0.6907178  0.71930865]\n",
      " [0.51526407 0.71584599]\n",
      " [0.34012316 0.74060121]\n",
      " [0.69182757 0.79392766]]\n",
      "[0 0 0 1 1 1 1 0 1 1 0 0 1 0 0 0 0 0 1 0 1 1 0 1 0 0 0 1 1 0 1 1 1 0 0 1 0\n",
      " 0 0 0 1 1 0 1 1 0 1 0 0 1 0 0 1 1 1 0 1 1 0 0 1 0 0 1 1 1 0 0 1 1 0 1 1 0\n",
      " 1 0 0 0 0 0 0 1 0 1 0 1 1 1 0 1 1 0 0 1 1 1 0 0 0 1 1 1 0 0 1 0 1 1 1 0 0\n",
      " 0 0 0 0 1 0 1 0 0 0 0 0 0 1 1 0 1 0 1 1 1 1 0 1 1 0 1 1 1 1 0 1 1 0 1 0 0\n",
      " 1 1 0 1 1 0 1 0 1 0 1 1 0 0 0 0 1 0 1 0 1 0 1 0 0 0 1 1 0 0 0 1 1 0 1 0 0\n",
      " 1 1 0 0 1 1 0 0 1 1 1 0 0 0 0 1 0 1 1 0 0 1 0 1 1 1 1 1 0 1 1 1 1 0 1 0 0\n",
      " 1 0 1 0 1 1 1 1 0 0 0 0 0 0 1 1 0 1 1 0 1 0 0 0 0 0 0 1 1 1 0 0 0 0 1 0 1\n",
      " 1 1 0 0 0 0 1 0 1 1 1 1 0 0 1 0 1 1 1 0 0 0 0 1 1 1 1 0 0 0 1 0 1 1 1 1 1\n",
      " 0 0 1 0]\n"
     ]
    }
   ],
   "source": [
    "# split in input X and output y\n",
    "def get_features_and_targets(df):\n",
    "    X = df.drop([\"Target\"], axis=1).values\n",
    "    y = np.stack(df[\"Target\"])\n",
    "    return X, y\n",
    "\n",
    "X_train, y_train = get_features_and_targets(df_train)\n",
    "X_test, y_test = get_features_and_targets(df_test)\n",
    "\n",
    "print(X_train)\n",
    "print(y_train)\n",
    "\n",
    "print(X_test)\n",
    "print(y_test)"
   ]
  },
  {
   "cell_type": "markdown",
   "id": "87f297bb",
   "metadata": {},
   "source": [
    "## train KI (regression)"
   ]
  },
  {
   "cell_type": "code",
   "execution_count": 10,
   "id": "498406db",
   "metadata": {},
   "outputs": [
    {
     "data": {
      "text/html": [
       "<style>#sk-container-id-1 {color: black;background-color: white;}#sk-container-id-1 pre{padding: 0;}#sk-container-id-1 div.sk-toggleable {background-color: white;}#sk-container-id-1 label.sk-toggleable__label {cursor: pointer;display: block;width: 100%;margin-bottom: 0;padding: 0.3em;box-sizing: border-box;text-align: center;}#sk-container-id-1 label.sk-toggleable__label-arrow:before {content: \"▸\";float: left;margin-right: 0.25em;color: #696969;}#sk-container-id-1 label.sk-toggleable__label-arrow:hover:before {color: black;}#sk-container-id-1 div.sk-estimator:hover label.sk-toggleable__label-arrow:before {color: black;}#sk-container-id-1 div.sk-toggleable__content {max-height: 0;max-width: 0;overflow: hidden;text-align: left;background-color: #f0f8ff;}#sk-container-id-1 div.sk-toggleable__content pre {margin: 0.2em;color: black;border-radius: 0.25em;background-color: #f0f8ff;}#sk-container-id-1 input.sk-toggleable__control:checked~div.sk-toggleable__content {max-height: 200px;max-width: 100%;overflow: auto;}#sk-container-id-1 input.sk-toggleable__control:checked~label.sk-toggleable__label-arrow:before {content: \"▾\";}#sk-container-id-1 div.sk-estimator input.sk-toggleable__control:checked~label.sk-toggleable__label {background-color: #d4ebff;}#sk-container-id-1 div.sk-label input.sk-toggleable__control:checked~label.sk-toggleable__label {background-color: #d4ebff;}#sk-container-id-1 input.sk-hidden--visually {border: 0;clip: rect(1px 1px 1px 1px);clip: rect(1px, 1px, 1px, 1px);height: 1px;margin: -1px;overflow: hidden;padding: 0;position: absolute;width: 1px;}#sk-container-id-1 div.sk-estimator {font-family: monospace;background-color: #f0f8ff;border: 1px dotted black;border-radius: 0.25em;box-sizing: border-box;margin-bottom: 0.5em;}#sk-container-id-1 div.sk-estimator:hover {background-color: #d4ebff;}#sk-container-id-1 div.sk-parallel-item::after {content: \"\";width: 100%;border-bottom: 1px solid gray;flex-grow: 1;}#sk-container-id-1 div.sk-label:hover label.sk-toggleable__label {background-color: #d4ebff;}#sk-container-id-1 div.sk-serial::before {content: \"\";position: absolute;border-left: 1px solid gray;box-sizing: border-box;top: 0;bottom: 0;left: 50%;z-index: 0;}#sk-container-id-1 div.sk-serial {display: flex;flex-direction: column;align-items: center;background-color: white;padding-right: 0.2em;padding-left: 0.2em;position: relative;}#sk-container-id-1 div.sk-item {position: relative;z-index: 1;}#sk-container-id-1 div.sk-parallel {display: flex;align-items: stretch;justify-content: center;background-color: white;position: relative;}#sk-container-id-1 div.sk-item::before, #sk-container-id-1 div.sk-parallel-item::before {content: \"\";position: absolute;border-left: 1px solid gray;box-sizing: border-box;top: 0;bottom: 0;left: 50%;z-index: -1;}#sk-container-id-1 div.sk-parallel-item {display: flex;flex-direction: column;z-index: 1;position: relative;background-color: white;}#sk-container-id-1 div.sk-parallel-item:first-child::after {align-self: flex-end;width: 50%;}#sk-container-id-1 div.sk-parallel-item:last-child::after {align-self: flex-start;width: 50%;}#sk-container-id-1 div.sk-parallel-item:only-child::after {width: 0;}#sk-container-id-1 div.sk-dashed-wrapped {border: 1px dashed gray;margin: 0 0.4em 0.5em 0.4em;box-sizing: border-box;padding-bottom: 0.4em;background-color: white;}#sk-container-id-1 div.sk-label label {font-family: monospace;font-weight: bold;display: inline-block;line-height: 1.2em;}#sk-container-id-1 div.sk-label-container {text-align: center;}#sk-container-id-1 div.sk-container {/* jupyter's `normalize.less` sets `[hidden] { display: none; }` but bootstrap.min.css set `[hidden] { display: none !important; }` so we also need the `!important` here to be able to override the default hidden behavior on the sphinx rendered scikit-learn.org. See: https://github.com/scikit-learn/scikit-learn/issues/21755 */display: inline-block !important;position: relative;}#sk-container-id-1 div.sk-text-repr-fallback {display: none;}</style><div id=\"sk-container-id-1\" class=\"sk-top-container\"><div class=\"sk-text-repr-fallback\"><pre>LinearRegression()</pre><b>In a Jupyter environment, please rerun this cell to show the HTML representation or trust the notebook. <br />On GitHub, the HTML representation is unable to render, please try loading this page with nbviewer.org.</b></div><div class=\"sk-container\" hidden><div class=\"sk-item\"><div class=\"sk-estimator sk-toggleable\"><input class=\"sk-toggleable__control sk-hidden--visually\" id=\"sk-estimator-id-1\" type=\"checkbox\" checked><label for=\"sk-estimator-id-1\" class=\"sk-toggleable__label sk-toggleable__label-arrow\">LinearRegression</label><div class=\"sk-toggleable__content\"><pre>LinearRegression()</pre></div></div></div></div></div>"
      ],
      "text/plain": [
       "LinearRegression()"
      ]
     },
     "execution_count": 10,
     "metadata": {},
     "output_type": "execute_result"
    }
   ],
   "source": [
    "clf = LinearRegression()\n",
    "clf.fit(X_train, y_train)"
   ]
  },
  {
   "cell_type": "markdown",
   "id": "f252d155",
   "metadata": {},
   "source": [
    "## results"
   ]
  },
  {
   "cell_type": "code",
   "execution_count": 11,
   "id": "6f9e7687",
   "metadata": {},
   "outputs": [
    {
     "name": "stdout",
     "output_type": "stream",
     "text": [
      "Prediction\t|True Value\n",
      "------------------------------\n",
      "0\t\t|0\n",
      "0\t\t|0\n",
      "0\t\t|0\n",
      "0\t\t|1\n",
      "0\t\t|1\n",
      "0\t\t|1\n",
      "0\t\t|1\n",
      "0\t\t|0\n",
      "0\t\t|1\n",
      "0\t\t|1\n",
      "Average error (mae): 1.0;\n",
      "Average error ration: 1.1469072941339333e+17%;\n",
      "The R^2 value is: -1.0%\n",
      "The score value is: -0.0074925556379725755\n",
      "The R^2 value is between 0 and 100% -> it's better than mean of data (0%) but not nearly perfect (100%))\n",
      "Maybe take a more sofisticated model -> CNN?!?\n"
     ]
    }
   ],
   "source": [
    "# try with test data\n",
    "predictions = clf.predict(X_test)\n",
    "\n",
    "print(\"Prediction\\t|True Value\")\n",
    "print(\"-\"*30)\n",
    "for idx, (pred, annotation) in enumerate(zip(predictions, y_test)):\n",
    "    if idx == 10:\n",
    "        break\n",
    "    pred = int(pred)\n",
    "    annotation = int(annotation)\n",
    "    print(f\"{pred}\\t\\t|{annotation}\")\n",
    "    \n",
    "mae = metrics.mean_absolute_error(y_test, predictions)\n",
    "mae_ratio = metrics.mean_absolute_percentage_error(y_test, predictions)\n",
    "r2_score = metrics.r2_score(y_test, predictions) \n",
    "score = clf.score(X_test, y_test)\n",
    "\n",
    "print(f\"Average error (mae): {np.round(mae)};\")\n",
    "print(f\"Average error ration: {np.round(mae_ratio * 100)}%;\")\n",
    "print(f\"The R^2 value is: {np.round(r2_score * 100)}%\")\n",
    "print(f\"The score value is: {score}\")\n",
    "print(f\"The R^2 value is between 0 and 100% -> it's better than mean of data (0%) but not nearly perfect (100%))\")\n",
    "print(f\"Maybe take a more sofisticated model -> CNN?!?\")"
   ]
  },
  {
   "cell_type": "code",
   "execution_count": 12,
   "id": "04d44063",
   "metadata": {},
   "outputs": [
    {
     "name": "stdout",
     "output_type": "stream",
     "text": [
      "Prediction is: 0.5467857698033587.\n",
      "Real value is: 0.\n"
     ]
    }
   ],
   "source": [
    "# test data\n",
    "df_test.iloc[0]\n",
    "X_test[0]\n",
    "# single prediction\n",
    "single_pred = clf.predict([X_test[0]])[0]\n",
    "print(f\"Prediction is: {single_pred}.\")\n",
    "print(f\"Real value is: {y_test[0]}.\")"
   ]
  },
  {
   "cell_type": "code",
   "execution_count": 13,
   "id": "c8a2aade",
   "metadata": {},
   "outputs": [
    {
     "name": "stdout",
     "output_type": "stream",
     "text": [
      "[0.54678577 0.52852238 0.51721073 0.51778787 0.50462391 0.47333652\n",
      " 0.50071772 0.46235496 0.53811719 0.54524608 0.46671982 0.53583342\n",
      " 0.5021771  0.50575046 0.45640955 0.4791727  0.45495349 0.53342279\n",
      " 0.52173148 0.4676761  0.51363443 0.47051042 0.53771736 0.53973225\n",
      " 0.4338869  0.4435762  0.52594032 0.49148426 0.49728743 0.52289974\n",
      " 0.46892668 0.5273057  0.50182666 0.44510951 0.5370811  0.50669103\n",
      " 0.48295393 0.53960142 0.52278983 0.52743663 0.46771299 0.50652349\n",
      " 0.52443658 0.50063365 0.4994141  0.44701751 0.46599099 0.54179125\n",
      " 0.47449852 0.53016883 0.45743809 0.53765151 0.51968094 0.5367043\n",
      " 0.52573911 0.51403165 0.51340616 0.50773906 0.4487565  0.46873427\n",
      " 0.47172839 0.50984984 0.5523398  0.49831859 0.49299407 0.51311728\n",
      " 0.43876844 0.44626138 0.50380889 0.50987574 0.54434246 0.47218452\n",
      " 0.52756058 0.47817576 0.50161436 0.55353697 0.50738173 0.44333535\n",
      " 0.45064909 0.47755292 0.54254073 0.50241477 0.55448968 0.49172491\n",
      " 0.53249542 0.51191883 0.49848546 0.52222378 0.52432404 0.46361828\n",
      " 0.46733449 0.55807581 0.44596521 0.51716877 0.51038744 0.47290334\n",
      " 0.51332769 0.49083322 0.46228992 0.50340137 0.46960761 0.47516919\n",
      " 0.43112636 0.52204364 0.5228932  0.44565627 0.52112115 0.54279837\n",
      " 0.53269686 0.57511262 0.45308454 0.46509232 0.55544217 0.46821308\n",
      " 0.5622549  0.47070584 0.47294662 0.50220388 0.48439446 0.5521633\n",
      " 0.45227762 0.5497049  0.4928312  0.46797367 0.54543878 0.52465965\n",
      " 0.42962959 0.51445749 0.55209426 0.50652853 0.49105926 0.53326842\n",
      " 0.51126431 0.45481102 0.4851591  0.50288952 0.5610785  0.48517258\n",
      " 0.53618381 0.52428405 0.49533219 0.44857994 0.50364291 0.50414469\n",
      " 0.44785631 0.52447159 0.44691674 0.43497466 0.4688149  0.47837759\n",
      " 0.56616657 0.53177066 0.48027593 0.44026732 0.5255503  0.46714788\n",
      " 0.4652663  0.55397784 0.51052885 0.52606866 0.52663535 0.42872726\n",
      " 0.43526524 0.42751071 0.48135358 0.42780951 0.47703695 0.54367813\n",
      " 0.49068925 0.53521096 0.45779276 0.52148758 0.57871546 0.47341322\n",
      " 0.50022181 0.51973385 0.47040809 0.50618021 0.52814488 0.47943723\n",
      " 0.47739712 0.5511636  0.49816468 0.55591256 0.4548487  0.51174642\n",
      " 0.47245781 0.47091315 0.46203964 0.51470789 0.45923608 0.46295481\n",
      " 0.52551586 0.50147428 0.48831578 0.51165846 0.53203064 0.53316056\n",
      " 0.46392635 0.47318918 0.50246598 0.47089436 0.49774329 0.46240922\n",
      " 0.52217609 0.54247742 0.49258501 0.55118595 0.45613085 0.50385071\n",
      " 0.49843354 0.48015935 0.46432999 0.4633194  0.50774946 0.51793849\n",
      " 0.50471634 0.51802802 0.54424227 0.4550083  0.48097488 0.5229502\n",
      " 0.48857546 0.519956   0.51732033 0.51043387 0.53315444 0.48940477\n",
      " 0.5271935  0.47591336 0.54629703 0.51820303 0.53182787 0.55309276\n",
      " 0.53403195 0.53863783 0.49219432 0.49295172 0.55549606 0.47591043\n",
      " 0.48691724 0.52292304 0.50675375 0.57391307 0.45678571 0.56062722\n",
      " 0.55444281 0.48928467 0.52434021 0.50981442 0.51718467 0.53383141\n",
      " 0.53201951 0.55134168 0.44024545 0.48699189 0.493745   0.53211406\n",
      " 0.49400646 0.47748502 0.50595006 0.53033697 0.4574945  0.53950389\n",
      " 0.55412518 0.47243028 0.56959447 0.50820794 0.50913921 0.4838859\n",
      " 0.55401174 0.55967863 0.45652844 0.50958505 0.45055055 0.52531145\n",
      " 0.49823084 0.45312903 0.53046215 0.52596506 0.55707778 0.56537096\n",
      " 0.51128374 0.55030363 0.51550086 0.50667477 0.51905959 0.48071419\n",
      " 0.52954495 0.49715564 0.46292209 0.54002625 0.4978882  0.54529283\n",
      " 0.48064066 0.46391331 0.46868232 0.48838875 0.50663516 0.46478997]\n"
     ]
    }
   ],
   "source": [
    "print(predictions)"
   ]
  },
  {
   "cell_type": "markdown",
   "id": "556e0511",
   "metadata": {},
   "source": [
    "## train ki (CNN)"
   ]
  },
  {
   "cell_type": "code",
   "execution_count": 14,
   "id": "f85a6cec",
   "metadata": {},
   "outputs": [
    {
     "name": "stderr",
     "output_type": "stream",
     "text": [
      "2024-02-02 09:58:31.768440: I external/local_tsl/tsl/cuda/cudart_stub.cc:31] Could not find cuda drivers on your machine, GPU will not be used.\n",
      "2024-02-02 09:58:31.813594: E external/local_xla/xla/stream_executor/cuda/cuda_dnn.cc:9261] Unable to register cuDNN factory: Attempting to register factory for plugin cuDNN when one has already been registered\n",
      "2024-02-02 09:58:31.813625: E external/local_xla/xla/stream_executor/cuda/cuda_fft.cc:607] Unable to register cuFFT factory: Attempting to register factory for plugin cuFFT when one has already been registered\n",
      "2024-02-02 09:58:31.815093: E external/local_xla/xla/stream_executor/cuda/cuda_blas.cc:1515] Unable to register cuBLAS factory: Attempting to register factory for plugin cuBLAS when one has already been registered\n",
      "2024-02-02 09:58:31.821876: I external/local_tsl/tsl/cuda/cudart_stub.cc:31] Could not find cuda drivers on your machine, GPU will not be used.\n",
      "2024-02-02 09:58:31.822756: I tensorflow/core/platform/cpu_feature_guard.cc:182] This TensorFlow binary is optimized to use available CPU instructions in performance-critical operations.\n",
      "To enable the following instructions: AVX2, in other operations, rebuild TensorFlow with the appropriate compiler flags.\n",
      "2024-02-02 09:58:33.010430: W tensorflow/compiler/tf2tensorrt/utils/py_utils.cc:38] TF-TRT Warning: Could not find TensorRT\n"
     ]
    }
   ],
   "source": [
    "# some imports\n",
    "import tensorflow as tf\n",
    "from tensorflow.keras.layers import *\n",
    "from tensorflow.keras.models import Sequential, Model\n",
    "from tensorflow.keras.optimizers import Adam\n",
    "from tensorflow.keras.optimizers.legacy import RMSprop"
   ]
  },
  {
   "cell_type": "code",
   "execution_count": 15,
   "id": "b72b6295",
   "metadata": {},
   "outputs": [
    {
     "name": "stdout",
     "output_type": "stream",
     "text": [
      "Model: \"sequential\"\n",
      "_________________________________________________________________\n",
      " Layer (type)                Output Shape              Param #   \n",
      "=================================================================\n",
      " dense (Dense)               (None, 12)                36        \n",
      "                                                                 \n",
      " dense_1 (Dense)             (None, 8)                 104       \n",
      "                                                                 \n",
      " dense_2 (Dense)             (None, 1)                 9         \n",
      "                                                                 \n",
      "=================================================================\n",
      "Total params: 149 (596.00 Byte)\n",
      "Trainable params: 149 (596.00 Byte)\n",
      "Non-trainable params: 0 (0.00 Byte)\n",
      "_________________________________________________________________\n"
     ]
    }
   ],
   "source": [
    "# create the CNN\n",
    "#input1 = Input(shape=(2,))\n",
    "#x = Dense(2)(input1)\n",
    "#x = Dense(1)(x)\n",
    "#model = Model(inputs=[input1], outputs=x)\n",
    "#model.summary()\n",
    "\n",
    "model = Sequential()\n",
    "model.add(Dense(12, input_shape=(2,), activation='relu'))\n",
    "model.add(Dense(8, activation='relu'))\n",
    "model.add(Dense(1, activation='sigmoid'))\n",
    "model.summary()"
   ]
  },
  {
   "cell_type": "code",
   "execution_count": 16,
   "id": "456fb422",
   "metadata": {},
   "outputs": [],
   "source": [
    "model.compile(\n",
    "    optimizer = RMSprop(learning_rate=0.02,rho=0.9, epsilon=None,decay=0),\n",
    "    loss = 'mean_squared_error', metrics=['accuracy']\n",
    ")"
   ]
  },
  {
   "cell_type": "code",
   "execution_count": 17,
   "id": "4b4cc649",
   "metadata": {},
   "outputs": [
    {
     "name": "stdout",
     "output_type": "stream",
     "text": [
      "Epoch 1/100\n",
      "22/22 [==============================] - 1s 13ms/step - loss: 0.2284 - accuracy: 0.6671 - val_loss: 0.2088 - val_accuracy: 0.7200\n",
      "Epoch 2/100\n",
      "22/22 [==============================] - 0s 6ms/step - loss: 0.1590 - accuracy: 0.8429 - val_loss: 0.1346 - val_accuracy: 0.8533\n",
      "Epoch 3/100\n",
      "22/22 [==============================] - 0s 6ms/step - loss: 0.1075 - accuracy: 0.8857 - val_loss: 0.0999 - val_accuracy: 0.8767\n",
      "Epoch 4/100\n",
      "22/22 [==============================] - 0s 6ms/step - loss: 0.0922 - accuracy: 0.8729 - val_loss: 0.0928 - val_accuracy: 0.8900\n",
      "Epoch 5/100\n",
      "22/22 [==============================] - 0s 6ms/step - loss: 0.0801 - accuracy: 0.9000 - val_loss: 0.1073 - val_accuracy: 0.8600\n",
      "Epoch 6/100\n",
      "22/22 [==============================] - 0s 6ms/step - loss: 0.0747 - accuracy: 0.9014 - val_loss: 0.0779 - val_accuracy: 0.8800\n",
      "Epoch 7/100\n",
      "22/22 [==============================] - 0s 6ms/step - loss: 0.0666 - accuracy: 0.9114 - val_loss: 0.0680 - val_accuracy: 0.9067\n",
      "Epoch 8/100\n",
      "22/22 [==============================] - 0s 7ms/step - loss: 0.0647 - accuracy: 0.9057 - val_loss: 0.0740 - val_accuracy: 0.8967\n",
      "Epoch 9/100\n",
      "22/22 [==============================] - 0s 7ms/step - loss: 0.0602 - accuracy: 0.9114 - val_loss: 0.0518 - val_accuracy: 0.9300\n",
      "Epoch 10/100\n",
      "22/22 [==============================] - 0s 6ms/step - loss: 0.0468 - accuracy: 0.9429 - val_loss: 0.0477 - val_accuracy: 0.9433\n",
      "Epoch 11/100\n",
      "22/22 [==============================] - 0s 6ms/step - loss: 0.0462 - accuracy: 0.9400 - val_loss: 0.0423 - val_accuracy: 0.9433\n",
      "Epoch 12/100\n",
      "22/22 [==============================] - 0s 5ms/step - loss: 0.0385 - accuracy: 0.9614 - val_loss: 0.0433 - val_accuracy: 0.9333\n",
      "Epoch 13/100\n",
      "22/22 [==============================] - 0s 7ms/step - loss: 0.0352 - accuracy: 0.9657 - val_loss: 0.0326 - val_accuracy: 0.9700\n",
      "Epoch 14/100\n",
      "22/22 [==============================] - 0s 6ms/step - loss: 0.0288 - accuracy: 0.9729 - val_loss: 0.0449 - val_accuracy: 0.9333\n",
      "Epoch 15/100\n",
      "22/22 [==============================] - 0s 6ms/step - loss: 0.0314 - accuracy: 0.9629 - val_loss: 0.0319 - val_accuracy: 0.9533\n",
      "Epoch 16/100\n",
      "22/22 [==============================] - 0s 6ms/step - loss: 0.0281 - accuracy: 0.9743 - val_loss: 0.0244 - val_accuracy: 0.9833\n",
      "Epoch 17/100\n",
      "22/22 [==============================] - 0s 6ms/step - loss: 0.0226 - accuracy: 0.9757 - val_loss: 0.0207 - val_accuracy: 0.9900\n",
      "Epoch 18/100\n",
      "22/22 [==============================] - 0s 6ms/step - loss: 0.0223 - accuracy: 0.9786 - val_loss: 0.0257 - val_accuracy: 0.9733\n",
      "Epoch 19/100\n",
      "22/22 [==============================] - 0s 9ms/step - loss: 0.0232 - accuracy: 0.9729 - val_loss: 0.0172 - val_accuracy: 0.9867\n",
      "Epoch 20/100\n",
      "22/22 [==============================] - 0s 7ms/step - loss: 0.0193 - accuracy: 0.9843 - val_loss: 0.0200 - val_accuracy: 0.9733\n",
      "Epoch 21/100\n",
      "22/22 [==============================] - 0s 8ms/step - loss: 0.0214 - accuracy: 0.9757 - val_loss: 0.0245 - val_accuracy: 0.9633\n",
      "Epoch 22/100\n",
      "22/22 [==============================] - 0s 6ms/step - loss: 0.0202 - accuracy: 0.9814 - val_loss: 0.0244 - val_accuracy: 0.9633\n",
      "Epoch 23/100\n",
      "22/22 [==============================] - 0s 11ms/step - loss: 0.0165 - accuracy: 0.9814 - val_loss: 0.0234 - val_accuracy: 0.9733\n",
      "Epoch 24/100\n",
      "22/22 [==============================] - 0s 6ms/step - loss: 0.0168 - accuracy: 0.9843 - val_loss: 0.0186 - val_accuracy: 0.9700\n",
      "Epoch 25/100\n",
      "22/22 [==============================] - 0s 4ms/step - loss: 0.0158 - accuracy: 0.9857 - val_loss: 0.0265 - val_accuracy: 0.9533\n",
      "Epoch 26/100\n",
      "22/22 [==============================] - 0s 5ms/step - loss: 0.0158 - accuracy: 0.9843 - val_loss: 0.0153 - val_accuracy: 0.9867\n",
      "Epoch 27/100\n",
      "22/22 [==============================] - 0s 6ms/step - loss: 0.0143 - accuracy: 0.9871 - val_loss: 0.0189 - val_accuracy: 0.9733\n",
      "Epoch 28/100\n",
      "22/22 [==============================] - 0s 6ms/step - loss: 0.0140 - accuracy: 0.9843 - val_loss: 0.0178 - val_accuracy: 0.9800\n",
      "Epoch 29/100\n",
      "22/22 [==============================] - 0s 7ms/step - loss: 0.0148 - accuracy: 0.9857 - val_loss: 0.0101 - val_accuracy: 0.9933\n",
      "Epoch 30/100\n",
      "22/22 [==============================] - 0s 7ms/step - loss: 0.0134 - accuracy: 0.9843 - val_loss: 0.0114 - val_accuracy: 0.9867\n",
      "Epoch 31/100\n",
      "22/22 [==============================] - 0s 7ms/step - loss: 0.0148 - accuracy: 0.9871 - val_loss: 0.0147 - val_accuracy: 0.9800\n",
      "Epoch 32/100\n",
      "22/22 [==============================] - 0s 6ms/step - loss: 0.0122 - accuracy: 0.9929 - val_loss: 0.0176 - val_accuracy: 0.9733\n",
      "Epoch 33/100\n",
      "22/22 [==============================] - 0s 6ms/step - loss: 0.0119 - accuracy: 0.9886 - val_loss: 0.0145 - val_accuracy: 0.9767\n",
      "Epoch 34/100\n",
      "22/22 [==============================] - 0s 6ms/step - loss: 0.0130 - accuracy: 0.9843 - val_loss: 0.0097 - val_accuracy: 0.9900\n",
      "Epoch 35/100\n",
      "22/22 [==============================] - 0s 7ms/step - loss: 0.0133 - accuracy: 0.9843 - val_loss: 0.0116 - val_accuracy: 0.9900\n",
      "Epoch 36/100\n",
      "22/22 [==============================] - 0s 6ms/step - loss: 0.0095 - accuracy: 0.9929 - val_loss: 0.0275 - val_accuracy: 0.9600\n",
      "Epoch 37/100\n",
      "22/22 [==============================] - 0s 6ms/step - loss: 0.0150 - accuracy: 0.9829 - val_loss: 0.0104 - val_accuracy: 0.9933\n",
      "Epoch 38/100\n",
      "22/22 [==============================] - 0s 6ms/step - loss: 0.0102 - accuracy: 0.9871 - val_loss: 0.0092 - val_accuracy: 0.9933\n",
      "Epoch 39/100\n",
      "22/22 [==============================] - 0s 6ms/step - loss: 0.0130 - accuracy: 0.9857 - val_loss: 0.0092 - val_accuracy: 0.9900\n",
      "Epoch 40/100\n",
      "22/22 [==============================] - 0s 5ms/step - loss: 0.0105 - accuracy: 0.9886 - val_loss: 0.0133 - val_accuracy: 0.9833\n",
      "Epoch 41/100\n",
      "22/22 [==============================] - 0s 6ms/step - loss: 0.0124 - accuracy: 0.9771 - val_loss: 0.0163 - val_accuracy: 0.9800\n",
      "Epoch 42/100\n",
      "22/22 [==============================] - 0s 6ms/step - loss: 0.0098 - accuracy: 0.9871 - val_loss: 0.0101 - val_accuracy: 0.9933\n",
      "Epoch 43/100\n",
      "22/22 [==============================] - 0s 9ms/step - loss: 0.0114 - accuracy: 0.9829 - val_loss: 0.0117 - val_accuracy: 0.9833\n",
      "Epoch 44/100\n",
      "22/22 [==============================] - 0s 6ms/step - loss: 0.0109 - accuracy: 0.9914 - val_loss: 0.0193 - val_accuracy: 0.9667\n",
      "Epoch 45/100\n",
      "22/22 [==============================] - 0s 6ms/step - loss: 0.0103 - accuracy: 0.9900 - val_loss: 0.0100 - val_accuracy: 0.9867\n",
      "Epoch 46/100\n",
      "22/22 [==============================] - 0s 6ms/step - loss: 0.0130 - accuracy: 0.9786 - val_loss: 0.0079 - val_accuracy: 0.9900\n",
      "Epoch 47/100\n",
      "22/22 [==============================] - 0s 7ms/step - loss: 0.0093 - accuracy: 0.9886 - val_loss: 0.0076 - val_accuracy: 0.9967\n",
      "Epoch 48/100\n",
      "22/22 [==============================] - 0s 6ms/step - loss: 0.0117 - accuracy: 0.9871 - val_loss: 0.0105 - val_accuracy: 0.9867\n",
      "Epoch 49/100\n",
      "22/22 [==============================] - 0s 7ms/step - loss: 0.0109 - accuracy: 0.9871 - val_loss: 0.0084 - val_accuracy: 0.9900\n",
      "Epoch 50/100\n",
      "22/22 [==============================] - 0s 6ms/step - loss: 0.0096 - accuracy: 0.9929 - val_loss: 0.0074 - val_accuracy: 0.9933\n",
      "Epoch 51/100\n",
      "22/22 [==============================] - 0s 5ms/step - loss: 0.0101 - accuracy: 0.9886 - val_loss: 0.0155 - val_accuracy: 0.9800\n",
      "Epoch 52/100\n",
      "22/22 [==============================] - 0s 5ms/step - loss: 0.0124 - accuracy: 0.9800 - val_loss: 0.0134 - val_accuracy: 0.9767\n",
      "Epoch 53/100\n",
      "22/22 [==============================] - 0s 6ms/step - loss: 0.0067 - accuracy: 0.9971 - val_loss: 0.0096 - val_accuracy: 0.9933\n",
      "Epoch 54/100\n",
      "22/22 [==============================] - 0s 9ms/step - loss: 0.0066 - accuracy: 0.9943 - val_loss: 0.0168 - val_accuracy: 0.9700\n",
      "Epoch 55/100\n",
      "22/22 [==============================] - 0s 6ms/step - loss: 0.0132 - accuracy: 0.9814 - val_loss: 0.0092 - val_accuracy: 0.9833\n",
      "Epoch 56/100\n",
      "22/22 [==============================] - 0s 6ms/step - loss: 0.0101 - accuracy: 0.9857 - val_loss: 0.0138 - val_accuracy: 0.9767\n",
      "Epoch 57/100\n",
      "22/22 [==============================] - 0s 6ms/step - loss: 0.0106 - accuracy: 0.9814 - val_loss: 0.0090 - val_accuracy: 0.9867\n",
      "Epoch 58/100\n",
      "22/22 [==============================] - 0s 4ms/step - loss: 0.0093 - accuracy: 0.9886 - val_loss: 0.0107 - val_accuracy: 0.9867\n"
     ]
    },
    {
     "name": "stdout",
     "output_type": "stream",
     "text": [
      "Epoch 59/100\n",
      "22/22 [==============================] - 0s 5ms/step - loss: 0.0076 - accuracy: 0.9929 - val_loss: 0.0064 - val_accuracy: 0.9933\n",
      "Epoch 60/100\n",
      "22/22 [==============================] - 0s 5ms/step - loss: 0.0089 - accuracy: 0.9886 - val_loss: 0.0079 - val_accuracy: 0.9867\n",
      "Epoch 61/100\n",
      "22/22 [==============================] - 0s 5ms/step - loss: 0.0103 - accuracy: 0.9871 - val_loss: 0.0079 - val_accuracy: 0.9867\n",
      "Epoch 62/100\n",
      "22/22 [==============================] - 0s 6ms/step - loss: 0.0078 - accuracy: 0.9900 - val_loss: 0.0068 - val_accuracy: 0.9900\n",
      "Epoch 63/100\n",
      "22/22 [==============================] - 0s 5ms/step - loss: 0.0092 - accuracy: 0.9914 - val_loss: 0.0128 - val_accuracy: 0.9800\n",
      "Epoch 64/100\n",
      "22/22 [==============================] - 0s 6ms/step - loss: 0.0099 - accuracy: 0.9886 - val_loss: 0.0252 - val_accuracy: 0.9633\n",
      "Epoch 65/100\n",
      "22/22 [==============================] - 0s 6ms/step - loss: 0.0085 - accuracy: 0.9857 - val_loss: 0.0054 - val_accuracy: 0.9933\n",
      "Epoch 66/100\n",
      "22/22 [==============================] - 0s 6ms/step - loss: 0.0120 - accuracy: 0.9829 - val_loss: 0.0074 - val_accuracy: 0.9933\n",
      "Epoch 67/100\n",
      "22/22 [==============================] - 0s 7ms/step - loss: 0.0080 - accuracy: 0.9929 - val_loss: 0.0055 - val_accuracy: 0.9967\n",
      "Epoch 68/100\n",
      "22/22 [==============================] - 0s 5ms/step - loss: 0.0112 - accuracy: 0.9900 - val_loss: 0.0074 - val_accuracy: 0.9933\n",
      "Epoch 69/100\n",
      "22/22 [==============================] - 0s 5ms/step - loss: 0.0079 - accuracy: 0.9900 - val_loss: 0.0174 - val_accuracy: 0.9700\n",
      "Epoch 70/100\n",
      "22/22 [==============================] - 0s 6ms/step - loss: 0.0088 - accuracy: 0.9886 - val_loss: 0.0056 - val_accuracy: 0.9900\n",
      "Epoch 71/100\n",
      "22/22 [==============================] - 0s 5ms/step - loss: 0.0096 - accuracy: 0.9857 - val_loss: 0.0107 - val_accuracy: 0.9900\n",
      "Epoch 72/100\n",
      "22/22 [==============================] - 0s 6ms/step - loss: 0.0070 - accuracy: 0.9943 - val_loss: 0.0191 - val_accuracy: 0.9733\n",
      "Epoch 73/100\n",
      "22/22 [==============================] - 0s 6ms/step - loss: 0.0118 - accuracy: 0.9843 - val_loss: 0.0083 - val_accuracy: 0.9900\n",
      "Epoch 74/100\n",
      "22/22 [==============================] - 0s 6ms/step - loss: 0.0082 - accuracy: 0.9929 - val_loss: 0.0059 - val_accuracy: 0.9967\n",
      "Epoch 75/100\n",
      "22/22 [==============================] - 0s 5ms/step - loss: 0.0063 - accuracy: 0.9900 - val_loss: 0.0258 - val_accuracy: 0.9633\n",
      "Epoch 76/100\n",
      "22/22 [==============================] - 0s 8ms/step - loss: 0.0072 - accuracy: 0.9943 - val_loss: 0.0176 - val_accuracy: 0.9700\n",
      "Epoch 77/100\n",
      "22/22 [==============================] - 0s 9ms/step - loss: 0.0111 - accuracy: 0.9843 - val_loss: 0.0095 - val_accuracy: 0.9900\n",
      "Epoch 78/100\n",
      "22/22 [==============================] - 0s 7ms/step - loss: 0.0071 - accuracy: 0.9886 - val_loss: 0.0125 - val_accuracy: 0.9800\n",
      "Epoch 79/100\n",
      "22/22 [==============================] - 0s 5ms/step - loss: 0.0093 - accuracy: 0.9871 - val_loss: 0.0077 - val_accuracy: 0.9933\n",
      "Epoch 80/100\n",
      "22/22 [==============================] - 0s 5ms/step - loss: 0.0101 - accuracy: 0.9843 - val_loss: 0.0117 - val_accuracy: 0.9767\n",
      "Epoch 81/100\n",
      "22/22 [==============================] - 0s 6ms/step - loss: 0.0076 - accuracy: 0.9886 - val_loss: 0.0056 - val_accuracy: 0.9900\n",
      "Epoch 82/100\n",
      "22/22 [==============================] - 0s 8ms/step - loss: 0.0066 - accuracy: 0.9929 - val_loss: 0.0061 - val_accuracy: 0.9933\n",
      "Epoch 83/100\n",
      "22/22 [==============================] - 0s 7ms/step - loss: 0.0090 - accuracy: 0.9829 - val_loss: 0.0174 - val_accuracy: 0.9733\n",
      "Epoch 84/100\n",
      "22/22 [==============================] - 0s 9ms/step - loss: 0.0063 - accuracy: 0.9929 - val_loss: 0.0065 - val_accuracy: 0.9900\n",
      "Epoch 85/100\n",
      "22/22 [==============================] - 0s 5ms/step - loss: 0.0086 - accuracy: 0.9900 - val_loss: 0.0052 - val_accuracy: 0.9967\n",
      "Epoch 86/100\n",
      "22/22 [==============================] - 0s 6ms/step - loss: 0.0082 - accuracy: 0.9929 - val_loss: 0.0036 - val_accuracy: 0.9967\n",
      "Epoch 87/100\n",
      "22/22 [==============================] - 0s 6ms/step - loss: 0.0091 - accuracy: 0.9886 - val_loss: 0.0044 - val_accuracy: 1.0000\n",
      "Epoch 88/100\n",
      "22/22 [==============================] - 0s 6ms/step - loss: 0.0090 - accuracy: 0.9900 - val_loss: 0.0050 - val_accuracy: 0.9933\n",
      "Epoch 89/100\n",
      "22/22 [==============================] - 0s 6ms/step - loss: 0.0077 - accuracy: 0.9900 - val_loss: 0.0040 - val_accuracy: 1.0000\n",
      "Epoch 90/100\n",
      "22/22 [==============================] - 0s 6ms/step - loss: 0.0079 - accuracy: 0.9871 - val_loss: 0.0096 - val_accuracy: 0.9833\n",
      "Epoch 91/100\n",
      "22/22 [==============================] - 0s 7ms/step - loss: 0.0081 - accuracy: 0.9886 - val_loss: 0.0076 - val_accuracy: 0.9900\n",
      "Epoch 92/100\n",
      "22/22 [==============================] - 0s 9ms/step - loss: 0.0072 - accuracy: 0.9900 - val_loss: 0.0046 - val_accuracy: 0.9967\n",
      "Epoch 93/100\n",
      "22/22 [==============================] - 0s 9ms/step - loss: 0.0108 - accuracy: 0.9843 - val_loss: 0.0052 - val_accuracy: 1.0000\n",
      "Epoch 94/100\n",
      "22/22 [==============================] - 0s 7ms/step - loss: 0.0064 - accuracy: 0.9914 - val_loss: 0.0060 - val_accuracy: 0.9933\n",
      "Epoch 95/100\n",
      "22/22 [==============================] - 0s 5ms/step - loss: 0.0114 - accuracy: 0.9843 - val_loss: 0.0096 - val_accuracy: 0.9867\n",
      "Epoch 96/100\n",
      "22/22 [==============================] - 0s 8ms/step - loss: 0.0094 - accuracy: 0.9857 - val_loss: 0.0196 - val_accuracy: 0.9700\n",
      "Epoch 97/100\n",
      "22/22 [==============================] - 0s 4ms/step - loss: 0.0077 - accuracy: 0.9900 - val_loss: 0.0075 - val_accuracy: 0.9933\n",
      "Epoch 98/100\n",
      "22/22 [==============================] - 0s 5ms/step - loss: 0.0084 - accuracy: 0.9886 - val_loss: 0.0078 - val_accuracy: 0.9900\n",
      "Epoch 99/100\n",
      "22/22 [==============================] - 0s 9ms/step - loss: 0.0081 - accuracy: 0.9871 - val_loss: 0.0061 - val_accuracy: 0.9867\n",
      "Epoch 100/100\n",
      "22/22 [==============================] - 0s 6ms/step - loss: 0.0092 - accuracy: 0.9900 - val_loss: 0.0089 - val_accuracy: 0.9900\n"
     ]
    }
   ],
   "source": [
    "epochs=100\n",
    "\n",
    "history = model.fit(X_train, y_train, epochs=epochs, shuffle=1, validation_data=(X_test, y_test),)"
   ]
  },
  {
   "cell_type": "code",
   "execution_count": 18,
   "id": "cdd9a48a",
   "metadata": {},
   "outputs": [
    {
     "name": "stdout",
     "output_type": "stream",
     "text": [
      "10/10 - 0s - loss: 0.0089 - accuracy: 0.9900 - 42ms/epoch - 4ms/step\n",
      "Test loss: 0.008892396464943886\n",
      "Test accuracy: 0.9900000095367432\n"
     ]
    }
   ],
   "source": [
    "test_scores = model.evaluate(X_test, y_test, verbose=2)\n",
    "print(\"Test loss:\", test_scores[0])\n",
    "print(\"Test accuracy:\", test_scores[1])"
   ]
  },
  {
   "cell_type": "markdown",
   "id": "7b8f422c",
   "metadata": {},
   "source": [
    "## results"
   ]
  },
  {
   "cell_type": "code",
   "execution_count": 19,
   "id": "5a1ec9b8",
   "metadata": {},
   "outputs": [],
   "source": [
    "def show_accuracy_loss_plot(history, num_epochs):\n",
    "    epochs = [i for i in range(num_epochs)]\n",
    "    fig , ax = plt.subplots(1,2)\n",
    "    train_acc = history.history['accuracy']\n",
    "    train_loss = history.history['loss']\n",
    "    val_acc = history.history['val_accuracy']\n",
    "    val_loss = history.history['val_loss']\n",
    "    fig.set_size_inches(16,9)\n",
    "    \n",
    "    ax[0].plot(epochs , train_acc , 'go-' , label = 'Train Accuracy')\n",
    "    ax[0].plot(epochs , val_acc , 'ro-' , label = 'Test Accuracy')\n",
    "    ax[0].set_title('Training & Test Accuracy')\n",
    "    ax[0].legend()\n",
    "    ax[0].set_xlabel(\"Epochs\")\n",
    "    ax[0].set_ylabel(\"Accuracy\")\n",
    "    \n",
    "    ax[1].plot(epochs , train_loss , 'g-o' , label = 'Training Loss')\n",
    "    ax[1].plot(epochs , val_loss , 'r-o' , label = 'Testing Loss')\n",
    "    ax[1].set_title('Training & Test Loss')\n",
    "    ax[1].legend()\n",
    "    ax[1].set_xlabel(\"Epochs\")\n",
    "    ax[1].set_ylabel(\"Loss\")\n",
    "    plt.show()"
   ]
  },
  {
   "cell_type": "code",
   "execution_count": 20,
   "id": "c2c53e00",
   "metadata": {},
   "outputs": [
    {
     "data": {
      "image/png": "[encoded data removed]",
      "text/plain": [
       "<Figure size 1600x900 with 2 Axes>"
      ]
     },
     "metadata": {},
     "output_type": "display_data"
    }
   ],
   "source": [
    "show_accuracy_loss_plot(history, epochs)"
   ]
  },
  {
   "cell_type": "markdown",
   "id": "94a13854",
   "metadata": {},
   "source": [
    "Our accuracy is around 93%\n",
    "Should we adapt the model to get is more accurate?"
   ]
  },
  {
   "cell_type": "code",
   "execution_count": 21,
   "id": "dac03170",
   "metadata": {},
   "outputs": [
    {
     "name": "stdout",
     "output_type": "stream",
     "text": [
      "10/10 [==============================] - 0s 2ms/step\n"
     ]
    },
    {
     "data": {
      "image/png": "[encoded data removed]",
      "text/plain": [
       "<Figure size 640x480 with 1 Axes>"
      ]
     },
     "metadata": {},
     "output_type": "display_data"
    },
    {
     "data": {
      "image/png": "[encoded data removed]",
      "text/plain": [
       "<Figure size 640x480 with 1 Axes>"
      ]
     },
     "metadata": {},
     "output_type": "display_data"
    }
   ],
   "source": [
    "#plot test points and predictions\n",
    "predictions = model.predict(X_test)\n",
    "predictions_rounded = [round(x[0]) for x in predictions]\n",
    "x_axis = X_test[:,0]\n",
    "y_axis = X_test[:,1]\n",
    "plt.scatter(x_axis, y_axis, c=y_test, cmap='gray')\n",
    "plt.show()\n",
    "plt.scatter(x_axis, y_axis, c=predictions, cmap='gray')\n",
    "plt.show()"
   ]
  },
  {
   "cell_type": "code",
   "execution_count": 22,
   "id": "28fca15f",
   "metadata": {},
   "outputs": [],
   "source": [
    "#print(predictions)\n",
    "#print(y_test)"
   ]
  },
  {
   "cell_type": "markdown",
   "id": "87786b67",
   "metadata": {},
   "source": [
    "## Recall and F1-Score"
   ]
  },
  {
   "cell_type": "code",
   "execution_count": 23,
   "id": "50e3eb9a",
   "metadata": {},
   "outputs": [
    {
     "data": {
      "text/plain": [
       "0.99"
      ]
     },
     "execution_count": 23,
     "metadata": {},
     "output_type": "execute_result"
    }
   ],
   "source": [
    "from sklearn.metrics import f1_score\n",
    "\n",
    "f1_score(y_test, predictions_rounded, average='micro')"
   ]
  },
  {
   "cell_type": "markdown",
   "id": "6fb3c558",
   "metadata": {},
   "source": [
    "F1 score\tInterpretation\n",
    "> 0.9\tVery good\n",
    "0.8 - 0.9\tGood\n",
    "0.5 - 0.8\tOK\n",
    "< 0.5\tNot good"
   ]
  },
  {
   "cell_type": "code",
   "execution_count": 24,
   "id": "92c6037b",
   "metadata": {},
   "outputs": [
    {
     "data": {
      "text/plain": [
       "0.99"
      ]
     },
     "execution_count": 24,
     "metadata": {},
     "output_type": "execute_result"
    }
   ],
   "source": [
    "from sklearn.metrics import recall_score\n",
    "recall_score(y_test, predictions_rounded, average='micro')"
   ]
  },
  {
   "cell_type": "code",
   "execution_count": 25,
   "id": "9d143f0d",
   "metadata": {},
   "outputs": [
    {
     "data": {
      "text/plain": [
       "(0.99, 0.99, 0.99, None)"
      ]
     },
     "execution_count": 25,
     "metadata": {},
     "output_type": "execute_result"
    }
   ],
   "source": [
    "from sklearn.metrics import precision_recall_fscore_support\n",
    "precision_recall_fscore_support(y_test, predictions_rounded, average='micro')"
   ]
  },
  {
   "cell_type": "markdown",
   "id": "ca0b0b04",
   "metadata": {},
   "source": [
    "## Confusion matrix"
   ]
  },
  {
   "cell_type": "code",
   "execution_count": 26,
   "id": "2b37eaf1",
   "metadata": {},
   "outputs": [],
   "source": [
    "from sklearn.metrics import classification_report,confusion_matrix\n",
    "\n",
    "cm = confusion_matrix(y_test,predictions_rounded)"
   ]
  },
  {
   "cell_type": "code",
   "execution_count": 27,
   "id": "6b9975fe",
   "metadata": {},
   "outputs": [
    {
     "data": {
      "image/png": "[encoded data removed]",
      "text/plain": [
       "<Figure size 640x480 with 2 Axes>"
      ]
     },
     "metadata": {},
     "output_type": "display_data"
    }
   ],
   "source": [
    "from sklearn.metrics import ConfusionMatrixDisplay\n",
    "disp = ConfusionMatrixDisplay(confusion_matrix=cm)\n",
    "disp.plot()\n",
    "plt.show()"
   ]
  },
  {
   "cell_type": "code",
   "execution_count": null,
   "id": "9796184e",
   "metadata": {},
   "outputs": [],
   "source": []
  }
 ],
 "metadata": {
  "kernelspec": {
   "display_name": "Python 3 (ipykernel)",
   "language": "python",
   "name": "python3"
  },
  "language_info": {
   "codemirror_mode": {
    "name": "ipython",
    "version": 3
   },
   "file_extension": ".py",
   "mimetype": "text/x-python",
   "name": "python",
   "nbconvert_exporter": "python",
   "pygments_lexer": "ipython3",
   "version": "3.10.9"
  }
 },
 "nbformat": 4,
 "nbformat_minor": 5
}
